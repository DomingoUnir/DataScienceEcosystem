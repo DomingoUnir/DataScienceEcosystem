{
 "cells": [
  {
   "cell_type": "markdown",
   "id": "11b36f0d-7824-45e6-81cf-fe447680fd93",
   "metadata": {},
   "source": [
    "# Data Science Tools and Ecosystem"
   ]
  },
  {
   "cell_type": "markdown",
   "id": "b5fe2954-a1a9-41b7-a71f-f120f92e5867",
   "metadata": {},
   "source": [
    "In this notebook, Data Science Tools and Ecosystem are summarized."
   ]
  },
  {
   "cell_type": "markdown",
   "id": "3b4356a1-9008-468b-8091-fe4fc3448690",
   "metadata": {},
   "source": [
    "**Objetives:**\n",
    "\n",
    "* List popupar languajes for Data Sience\n",
    "* List of common libraries for Data Science\n",
    "* Examples of arithmetic expresions"
   ]
  },
  {
   "cell_type": "markdown",
   "id": "0aad92e5-fac5-4592-b37e-d2b5d3a52eba",
   "metadata": {},
   "source": [
    "Some of the popular languages that Data Scientists use are:\n",
    "\n",
    "1. Python\n",
    "2. R\n",
    "3. Julia "
   ]
  },
  {
   "cell_type": "markdown",
   "id": "6043dbeb-d776-40c4-bbe4-6b5eb05e4e77",
   "metadata": {},
   "source": [
    "Some of the commonly used libraries used by Data Scientists include:\n",
    "\n",
    "* NumPy\n",
    "* Matplotlib\n",
    "* Pandas"
   ]
  },
  {
   "cell_type": "markdown",
   "id": "97db3ebc-5132-4edb-a9ce-58b4b7ec5258",
   "metadata": {},
   "source": [
    "|Data Science Tools|\n",
    "-------------------\n",
    "| Jupyter Notebooks |\n",
    "| R Studio |\n",
    "| Weka |"
   ]
  },
  {
   "attachments": {},
   "cell_type": "markdown",
   "id": "3842bd67-5a18-43c3-8354-6a88664b49f8",
   "metadata": {},
   "source": [
    "### Below are a few examples of evaluating aritmetic expresion in Python"
   ]
  },
  {
   "cell_type": "code",
   "execution_count": 17,
   "id": "97cbcde8-94ce-4c25-9cda-83291a7ee22e",
   "metadata": {},
   "outputs": [
    {
     "data": {
      "text/plain": [
       "17"
      ]
     },
     "execution_count": 17,
     "metadata": {},
     "output_type": "execute_result"
    }
   ],
   "source": [
    "# This a simple arithmetic expression to mutiply then add integers\n",
    "(3*4)+5"
   ]
  },
  {
   "cell_type": "code",
   "execution_count": 19,
   "id": "776c5787-84f0-470e-b699-ab2c5a3f6068",
   "metadata": {},
   "outputs": [
    {
     "name": "stdout",
     "output_type": "stream",
     "text": [
      "3.3333333333333335\n"
     ]
    }
   ],
   "source": [
    "# This will convert 200 minutes to hours by diving by 60\n",
    "\n",
    "minutes = 200\n",
    "hours = minutes / 60\n",
    "print(hours)"
   ]
  },
  {
   "cell_type": "markdown",
   "id": "0c5a1c8e-393a-401c-ad19-76e2524b2046",
   "metadata": {},
   "source": [
    "## Author\n",
    "Domingo Jesús Sánchez Blanco"
   ]
  }
 ],
 "metadata": {
  "kernelspec": {
   "display_name": "Python 3 (ipykernel)",
   "language": "python",
   "name": "python3"
  },
  "language_info": {
   "codemirror_mode": {
    "name": "ipython",
    "version": 3
   },
   "file_extension": ".py",
   "mimetype": "text/x-python",
   "name": "python",
   "nbconvert_exporter": "python",
   "pygments_lexer": "ipython3",
   "version": "3.11.7"
  }
 },
 "nbformat": 4,
 "nbformat_minor": 5
}
